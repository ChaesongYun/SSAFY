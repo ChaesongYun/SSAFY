{
 "cells": [
  {
   "cell_type": "code",
   "execution_count": 3,
   "id": "48c3af78",
   "metadata": {},
   "outputs": [],
   "source": [
    "# 필요 패키지 import\n",
    "import pprint\n",
    "import requests"
   ]
  },
  {
   "cell_type": "markdown",
   "id": "d5723667",
   "metadata": {},
   "source": [
    "# 문제4. 상품과 옵션 정보들을 담고 있는 새로운 객체를 만들어 반환하시오.\n",
    "- [힌트] 상품 리스트와 옵션 리스트를 금융상품 코드를 기준으로 매칭할 수 있습니다.\n",
    "- [힌트] 아래와 같은 순서로 데이터를 출력하며 진행합니다.\n",
    "- 1. 응답을 json 형식으로 변환합니다.\n",
    "- 2. key 값이 \"result\" 인 데이터를 변수에 저장합니다.\n",
    "- 3. 2번의 결과 중 key 값이 \"baseList\" 인 데이터를 변수에 저장합니다.\n",
    "- 4. 2번의 결과 중 key 값이 \"optionList\" 인 데이터를 변수에 저장합니다.\n",
    "- 5. 3번에서 저장된 변수를 순회하며, 4번에서 저장된 값들에서 금융 상품 코드가 \n",
    "-     같은 모든 데이터들을 가져와 새로운 딕셔너리로 저장합니다.\n",
    "-     저장 시, 명세서에 맞게 출력되도록 저장합니다.\n",
    "- 6. 5번에서 만든 딕셔너리를 결과 리스트에 추가합니다."
   ]
  },
  {
   "cell_type": "code",
   "execution_count": 4,
   "id": "dcdb1972",
   "metadata": {},
   "outputs": [],
   "source": [
    "\n",
    "def get_deposit_products():\n",
    "    # 본인의 API KEY 로 수정합니다.\n",
    "    url = 'http://finlife.fss.or.kr/finlifeapi/depositProductsSearch.json'\n",
    "    api_key = 'b244a11efbb2b572c5c51582169c6cb3'\n",
    "    params = {\n",
    "        'auth' : api_key,\n",
    "        #금융 회사 코드 020000(은행), 030200(여신전문), 030300(저축은행), 050000(보험), 060000(금융투자)\n",
    "        'topFinGrpNo' : '020000', \n",
    "        'pageNo' : 1\n",
    "    }\n",
    "    # 요구사항에 맞도록 이곳의 코드를 수정합니다.\n",
    "    response = requests.get(url, params = params).json()\n",
    "    result = response\n",
    "    \n",
    "    return result\n",
    "\n",
    "# 아래 코드는 수정하지 않습니다.\n",
    "if __name__ == '__main__':\n",
    "    # json 형태의 데이터 반환\n",
    "    result = get_deposit_products()\n",
    "    result_option = result['result']['optionList']\n",
    "    # prrint.prrint(): json 을 보기 좋은 형식으로 출력\n",
    "    option_list = []\n",
    "    for i in range(len(result_option)):\n",
    "        option_list.append({\n",
    "            '금융상품코드' : result_option[i]['fin_prdt_cd'],\n",
    "            '저축 금리' : result_option[i]['intr_rate'],\n",
    "            '저축 기간' : result_option[i]['save_trm'],\n",
    "            '저축금리유형' : result_option[i]['intr_rate_type'],\n",
    "            '저축금리유형명' : result_option[i]['intr_rate_type_nm'],\n",
    "            '최고 우대금리' : result_option[i]['intr_rate2']\n",
    "        })\n",
    "    \n",
    "# 아래 코드는 수정하지 않습니다.\n",
    "if __name__ == '__main__':\n",
    "    # json 형태의 데이터 반환\n",
    "    result = get_deposit_products()\n",
    "    result_option = result['result']['optionList']\n",
    "    # prrint.prrint(): json 을 보기 좋은 형식으로 출력\n",
    "    option_list = []\n",
    "    for i in range(len(result_option)):\n",
    "        option_list.append({\n",
    "            '금융상품코드' : result_option[i]['fin_prdt_cd'],\n",
    "            '저축 금리' : result_option[i]['intr_rate'],\n",
    "            '저축 기간' : result_option[i]['save_trm'],\n",
    "            '저축금리유형' : result_option[i]['intr_rate_type'],\n",
    "            '저축금리유형명' : result_option[i]['intr_rate_type_nm'],\n",
    "            '최고 우대금리' : result_option[i]['intr_rate2']\n",
    "        })\n",
    "    ####################################\n",
    "      \n",
    "    code_list = []\n",
    "    \n",
    "    for i in range(len(option_list)):\n",
    "        code_list.append(option_list[i]['금융상품코드'])\n",
    "        \n",
    "    #중복제거(순회하기 위해 list)\n",
    "    code_set = list(set(code_list))\n",
    "    same_list = []\n",
    "    \n",
    "    #{'금리정보' : [], '금융상품명' : 'WON플러스예금', '금융회사명' : '우리은행'}\n",
    "    for i in range(len(code_set)):\n",
    "        #fin_prdt_cd 이게 금융상품코드\n",
    "        same_list.append({'금리정보' : [], '금융상품명' : '', '금융회사명' : ''})\n",
    "        for j in range(len(option_list)):\n",
    "            #같은 금융상품코드끼리 합치기 \n",
    "            same_list[i]['금융상품명'] = result['result']['baseList'][i]['fin_prdt_nm']\n",
    "            same_list[i]['금융회사명'] = result['result']['baseList'][i]['kor_co_nm']\n",
    "            if (code_set[i] == option_list[j]['금융상품코드']):\n",
    "                same_list[i]['금융상품명'] = result['result']['baseList'][i]['kor_co_nm']\n",
    "                same_list[i]['금리정보'].append({\n",
    "                    '저축 금리' : option_list[i]['저축 금리'],\n",
    "                    '저축금리유형' : option_list[i]['저축금리유형'],\n",
    "                    '저축금리유형명' : option_list[i]['저축금리유형명'],\n",
    "                    '최고 우대금리' : option_list[i]['최고 우대금리']})\n",
    "            else :\n",
    "                continue\n",
    "    pprint.pprint(same_list)\n"
   ]
  },
  {
   "cell_type": "code",
   "execution_count": 5,
   "id": "9a3c23f1",
   "metadata": {},
   "outputs": [
    {
     "name": "stdout",
     "output_type": "stream",
     "text": [
      "'result'\n"
     ]
    }
   ],
   "source": [
    "# 아래 코드는 수정하지 않습니다.\n",
    "if __name__ == '__main__':\n",
    "    # json 형태의 데이터 반환\n",
    "    result = get_deposit_products()\n",
    "    # prrint.prrint(): json 을 보기 좋은 형식으로 출력\n",
    "    pprint.pprint(result)"
   ]
  },
  {
   "cell_type": "code",
   "execution_count": null,
   "id": "4793a7d8",
   "metadata": {},
   "outputs": [],
   "source": []
  }
 ],
 "metadata": {
  "kernelspec": {
   "display_name": "Python 3 (ipykernel)",
   "language": "python",
   "name": "python3"
  },
  "language_info": {
   "codemirror_mode": {
    "name": "ipython",
    "version": 3
   },
   "file_extension": ".py",
   "mimetype": "text/x-python",
   "name": "python",
   "nbconvert_exporter": "python",
   "pygments_lexer": "ipython3",
   "version": "3.10.2"
  }
 },
 "nbformat": 4,
 "nbformat_minor": 5
}
